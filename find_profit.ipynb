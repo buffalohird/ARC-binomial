{
 "metadata": {
  "name": "One-Pass and Two-Pass Algorithms"
 },
 "nbformat": 3,
 "nbformat_minor": 0,
 "worksheets": [
  {
   "cells": [
    {
     "cell_type": "raw",
     "metadata": {},
     "source": "Let's talk about high frequency trading algorithms. \n\nIn the high frequency trading world, HFT algorithms face two main challenges: \n\n1. They must receive large amounts of data every microsecond\n\n2. They must be able to act extremely fast on the received data because profitable opportunities disappear quickly! \n\nHFT problems are also online problems in the sense that not all of the data used in their decision making is available to them at once. \n\nSince HFT problems need to be able to react to market updates quickly, they need very efficient memory handling, which can only be achieved if the amount of memory used is small. \n\nOne Pass Algorithms\n\nBased on the speed requirement and the online nature of HFT problems, the class of one-pass algorithms is especially suitable for HFT applications. These algorithms receive one data point at a time and use it to update a set of factors. After the update, the data point is discarded and only the updated factors are kept in memory."
    },
    {
     "cell_type": "raw",
     "metadata": {},
     "source": "Online Mean Algorithm\n\nOne type of metric that often needs to be calculated quickly is the moving average of a security. \n\nLet's define the moving average as the average price of the stock over the last N days. Now, as you may guess, the moving average can only be implemented as a two-pass algorithm because you have to view each data point twice - once when you add it to the moving average and once when you remove it from the moving average. \n\nLet's implement this below: "
    },
    {
     "cell_type": "code",
     "collapsed": false,
     "input": "from random import randint, seed\n\nclass Stock:\n  def __init__(self):\n    self.price = 50\n    # MA X_0 condition.\n    # by default current moving average = current price\n    self.current_ma = 50\n    seed()\n  def get_price(self):\n    return self.price\n  def next_price(self):\n    new_price = randint(self.price-1, self.price+1)\n    self.price = new_price\n    return self.price\n  def update_ma(self, ma):\n    self.current_ma = ma\n  def get_ma(self):\n    return self.current_ma",
     "language": "python",
     "metadata": {},
     "outputs": [],
     "prompt_number": 2
    },
    {
     "cell_type": "code",
     "collapsed": false,
     "input": "from Queue import Queue\n\n# We provided you a helpful float printing function to round to 2 decimals\ndef print_ma(ma):\n  print (\"%.2f\" % ma)\n\n#M, the number of days we care about\nma_days = 10\n\n#simulation length in days\nsim_len = 50\n\n#initialize the first ma_days of data\ndef populate_mem(memory, s):\n  m_sum = 0\n  while not memory.full():\n    next_price = s.next_price()\n    memory.put(next_price)\n    m_sum += next_price\n  ma_current = float(m_sum) / float(ma_days)\n  s.update_ma(ma_current)\n\n# calculate the next moving average\n# hint: do we know the current moving avg?\ndef populate_ma(ma_arr, memory, s):\n  # >>>>>> TODO\n  return\n\ndef main():\n  s = Stock()\n\n  # this is the data structure we use to store our data points (stock prices)\n  # we will need to access them later in our second pass \n  memory = Queue(maxsize=ma_days)\n\n  #we want to build a sequential list of the moving avgs as we calculate them\n  #this is what ma_arr is for storing\n  ma_arr = []\n\n  populate_mem(memory, s)\n  \n  #hint: remember to populate the moving avg array with the first one.\n  #     you can do it here, or make some modifications to the populate_mem step\n\n  #Here you will run your simulation \n  for x in range(1,sim_len,1):\n    populate_ma(ma_arr, memory, s)\n\n  #pretty prints our array of moving avgs  \n  map(print_ma, ma_arr)\n\nmain()",
     "language": "python",
     "metadata": {},
     "outputs": [],
     "prompt_number": 6
    },
    {
     "cell_type": "raw",
     "metadata": {},
     "source": "Good job! Now, imagine that you had to calculate the moving average for millions of data points. In this case, a two-pass algorithm would be too slow! How can we approximate the moving average with a one-pass algorithm?\n\nWhat if we downweighted points that we saw in the distance past? \n\nThis type of downweighting is called the one-pass exponential weighted average. Essentially, we are multiplying all of the points in the past by an alpha every single time we see a new point. As a result, points in the distance past contribute less to the average than points closer to the present. \n\nLet's implement this below: "
    },
    {
     "cell_type": "code",
     "collapsed": false,
     "input": "from Queue import Queue\n\n\n#M, the number of days window used to calc. our moving avg\nma_days = 10\n\n# alpha, must satisfy 0 < a <= 1 \nalpha = 0.90\n\n#simulation length in days\nsim_len = 50\n\n# calculate the next moving average, using the current one\n# using our knowledge of the recurrence equation\ndef populate_ma(ma_arr, s):\n  # >>>>>> TODO\n  # you will want to calculate your next moving average\n  # and remember to keep it for your records\n  return\n\ndef main():\n  s = Stock()\n\n  #we want to build a sequential list of the moving avgs as we calculate them\n  #this is what ma_arr is for storing\n  ma_arr = []\n\n  #hint: remember to populate the moving avg array with the first one\n\n  #>>>>>> TODO: Here you will run your simulation\n  for x in range(1,sim_len,1):\n    populate_ma(ma_arr, s)\n\n  #pretty prints our array of moving avgs\n  map(print_ma, ma_arr)\n\nmain()",
     "language": "python",
     "metadata": {},
     "outputs": [],
     "prompt_number": 8
    },
    {
     "cell_type": "code",
     "collapsed": false,
     "input": "",
     "language": "python",
     "metadata": {},
     "outputs": []
    }
   ],
   "metadata": {}
  }
 ]
}