{
 "metadata": {
  "name": ""
 },
 "nbformat": 3,
 "nbformat_minor": 0,
 "worksheets": [
  {
   "cells": [
    {
     "cell_type": "markdown",
     "metadata": {},
     "source": [
      "## Programming expectations\n",
      "\n",
      "All the assignments and labs for ARC will use Python and, for the most part, the browser-based IPython notebook format you are currently viewing. Knowledge of Python is not a prerequisite for ARC or participation, **provided you are comfortable learning on your own as needed**. While we have strived to make the programming component of this course straightforward, we will not devote much time to teaching prorgramming or Python syntax. Basically, you should feel comfortable with:\n",
      "\n",
      "* How to look up Python syntax on Google and StackOverflow.\n",
      "* Basic programming concepts like functions, loops, arrays, dictionaries, strings, and if statements.\n",
      "* How to learn new libraries by reading documentation.\n",
      "* Asking questions on StackOverflow or Piazza.\n",
      "\n",
      "There are many online tutorials to introduce you to scientific python programming. [Here is one](https://github.com/jrjohansson/scientific-python-lectures) that is very nice and very relevant to ARC.\n",
      "\n",
      "For an introduction to python we recommend: [Learn Python](http://www.learnpython.org/). This is entirly browser based so enjoy!\n",
      "\n",
      "## Getting Python\n",
      "\n",
      "You will be using Python throughout constantly in ARC, including many popular 3rd party Python libraries for scientific computing. [Anaconda](http://continuum.io/downloads) is an easy-to-install bundle of Python and most of these libraries. We recommend that you use Anaconda for this course.\n",
      "\n",
      "Please visit [this page](https://github.com/knathanieltucker/arc/wiki/Basic-Python) and follow the instructions to set up Python\n",
      "\n",
      "<hline>\n",
      "\n",
      "## IPython Notebook\n",
      "\n",
      "The IPython notebook is an application to build interactive computational notebooks. You'll be using them to complete labs and homework. Once you've set up Python, please download this page (from the top right of the veiwer/webpage), and open it with IPython by typing\n",
      "\n",
      "```\n",
      "ipython notebook <name_of_downloaded_file>\n",
      "```\n",
      "\n",
      "For the rest of the assignment, use your local copy of this page, running on IPython. If you are note familiar with IPython, please click [here](http://ipython.org/ipython-doc/stable/interactive/tutorial.html) and go though this tutorial.\n",
      "\n",
      "Notebooks are composed of many \"cells\", which can contain text (like this one), or code (like the one below). Double click on the cell below, and evaluate it by clicking the \"play\" button above, for by hitting shift + enter"
     ]
    },
    {
     "cell_type": "code",
     "collapsed": false,
     "input": [
      "x = ['A', 'R', 'C']\n",
      "for item in x:\n",
      "    print \"\", item"
     ],
     "language": "python",
     "metadata": {},
     "outputs": [],
     "prompt_number": 2
    },
    {
     "cell_type": "markdown",
     "metadata": {},
     "source": [
      "## Python Libraries\n",
      "\n",
      "We will be using a several different libraries throughout this course. If you've successfully completed the [installation instructions](https://github.com/cs109/content/wiki/Installing-Python), all of the following statements should run."
     ]
    },
    {
     "cell_type": "code",
     "collapsed": false,
     "input": [
      "#IPython is what you are using now to run the notebook\n",
      "import IPython\n",
      "print \"IPython version:      %6.6s (need at least 1.0)\" % IPython.__version__\n",
      "\n",
      "# math is python's own math library\n",
      "import math\n",
      "\n",
      "# Numpy is a library for working with Arrays\n",
      "import numpy as np\n",
      "print \"Numpy version:        %6.6s (need at least 1.7.1)\" % np.__version__\n",
      "\n",
      "# SciPy implements many different numerical algorithms\n",
      "import scipy as sp\n",
      "print \"SciPy version:        %6.6s (need at least 0.12.0)\" % sp.__version__\n",
      "\n",
      "# Pandas makes working with data tables easier\n",
      "import pandas as pd\n",
      "print \"Pandas version:       %6.6s (need at least 0.11.0)\" % pd.__version__\n",
      "\n",
      "# Module for plotting\n",
      "import matplotlib\n",
      "print \"Mapltolib version:    %6.6s (need at least 1.2.1)\" % matplotlib.__version__\n",
      "\n",
      "# SciKit Learn implements several Machine Learning algorithms\n",
      "import sklearn\n",
      "print \"Scikit-Learn version: %6.6s (need at least 0.13.1)\" % sklearn.__version__\n",
      "\n",
      "# Requests is a library for getting data from the Web\n",
      "import requests\n",
      "print \"requests version:     %6.6s (need at least 1.2.3)\" % requests.__version__\n",
      "\n",
      "# Networkx is a library for working with networks\n",
      "import networkx as nx\n",
      "print \"NetworkX version:     %6.6s (need at least 1.7)\" % nx.__version__\n",
      "\n",
      "#BeautifulSoup is a library to parse HTML and XML documents\n",
      "import iso8601\n",
      "print iso8601.parse_date(\"2007-01-25T12:00:00Z\")\n",
      "\n"
     ],
     "language": "python",
     "metadata": {},
     "outputs": [
      {
       "output_type": "stream",
       "stream": "stdout",
       "text": [
        "IPython version:       1.0.0 (need at least 1.0)\n",
        "Numpy version:         1.7.1 (need at least 1.7.1)\n",
        "SciPy version:        0.12.0 (need at least 0.12.0)\n",
        "Pandas version:       0.12.0 (need at least 0.11.0)"
       ]
      },
      {
       "output_type": "stream",
       "stream": "stdout",
       "text": [
        "\n",
        "Mapltolib version:     1.3.0 (need at least 1.2.1)\n",
        "Scikit-Learn version: 0.14.1 (need at least 0.13.1)"
       ]
      },
      {
       "output_type": "stream",
       "stream": "stdout",
       "text": [
        "\n",
        "requests version:      1.2.3 (need at least 1.2.3)\n",
        "NetworkX version:      1.8.1 (need at least 1.7)"
       ]
      },
      {
       "output_type": "stream",
       "stream": "stdout",
       "text": [
        "\n",
        "2007-01-25 12:00:00+00:00\n"
       ]
      }
     ],
     "prompt_number": 1
    },
    {
     "cell_type": "markdown",
     "metadata": {},
     "source": [
      "If any of these libraries are missing or out of date, you will need to [install them](https://github.com/knathanieltucker/arc/wiki/Basic-Python) and restart IPython"
     ]
    },
    {
     "cell_type": "markdown",
     "metadata": {},
     "source": [
      "## Numpy Science\n",
      "\n",
      "The Numpy array processing library is the basis of nearly all numerical computing in Python. Here's a 30 second crash course. For more details, consult Chapter 4 of Python for Data Analysis, or the [Numpy User's Guide](http://docs.scipy.org/doc/numpy-dev/user/index.html)"
     ]
    },
    {
     "cell_type": "code",
     "collapsed": false,
     "input": [
      "print \"Make a 3 row x 4 column array of random numbers\"\n",
      "x = np.random.random((3, 4))\n",
      "print x\n",
      "print\n",
      "\n",
      "print \"Add 1 to every element\"\n",
      "x = x + 1\n",
      "print x\n",
      "print\n",
      "\n",
      "print \"Get the element at row 1, column 2\"\n",
      "print x[1, 2]\n",
      "print\n",
      "\n",
      "# The colon syntax is called \"slicing\" the array. \n",
      "print \"Get the first row\"\n",
      "print x[0, :]\n",
      "print\n",
      "\n",
      "print \"Get every 2nd column of the first row\"\n",
      "print x[0, ::2]\n",
      "print"
     ],
     "language": "python",
     "metadata": {},
     "outputs": [
      {
       "output_type": "stream",
       "stream": "stdout",
       "text": [
        "Make a 3 row x 4 column array of random numbers\n",
        "[[ 0.30877276  0.48315141  0.36740311  0.83250545]\n",
        " [ 0.2905601   0.32042413  0.46859982  0.82778273]\n",
        " [ 0.84135569  0.75797561  0.35712106  0.34190515]]\n",
        "\n",
        "Add 1 to every element\n",
        "[[ 1.30877276  1.48315141  1.36740311  1.83250545]\n",
        " [ 1.2905601   1.32042413  1.46859982  1.82778273]\n",
        " [ 1.84135569  1.75797561  1.35712106  1.34190515]]\n",
        "\n",
        "Get the element at row 1, column 2\n",
        "1.46859982478\n",
        "\n",
        "Get the first row\n",
        "[ 1.30877276  1.48315141  1.36740311  1.83250545]\n",
        "\n",
        "Get every 2nd column of the first row\n",
        "[ 1.30877276  1.36740311]\n",
        "\n"
       ]
      }
     ],
     "prompt_number": 2
    },
    {
     "cell_type": "markdown",
     "metadata": {},
     "source": [
      "## Binomial Option Pricing\n",
      "\n",
      "\n",
      "\n",
      "Now for the fun stuff! We will create an algorithm to do Binomial Option Pricing (e.g. computing fair prices for options using discretized time intervals and expected changes in values of the option and underlying stock.\n",
      "\n",
      "To begin you can find background on this algorithm here: http://en.wikipedia.org/wiki/Binomial_options_pricing_model\n",
      "Alternatively, we find graphics and examples to be useful: http://www.youtube.com/watch?v=35n7TICJbLc\n",
      "\n",
      "We are applying here the binomial distribution in that an event (the price going up) occurs repeatedly over many trials with probability p.\n",
      "We are also applying expected values as we can only \"guess\" what the stock price will do in the future.\n"
     ]
    },
    {
     "cell_type": "code",
     "collapsed": false,
     "input": [
      "\"\"\"\n",
      "Function\n",
      "-------- \n",
      "jarrow_rudd(s, k, t, v, rf, cp, am=False, n=100)\n",
      "\n",
      "Price an option using the Jarrow-Rudd binomial model.\n",
      "\n",
      "Parameters\n",
      "----------\n",
      "\n",
      "\ts : initial stock price \n",
      "\tk : strike price \n",
      "\tt : expiration time \n",
      "\tv : volatility \n",
      "\trf : risk-free rate \n",
      "\tcp : +1/-1 for call / put option\n",
      "\tam : True/False for American/European\n",
      "\tn : number of binomial steps\n",
      "    \n",
      "\n",
      "Returns\n",
      "-------\n",
      "price : float\n",
      "    The fair price for the option\n",
      "\n",
      "Example\n",
      "-------\n",
      ">>> print jarrow_rudd(100.0, 100.0, 1.0, 0.3, 0.03, 1, False, 100)\n",
      "13.2969231342\n",
      "\"\"\"\n",
      "\n",
      "def jarrow_rudd(s, k, t, v, rf, cp, am=False, n=100):\n",
      "\t#Price an option using the Jarrow-Rudd binomial model.\n",
      "\n",
      "\t# Basic Calculations\n",
      "\th = t / n \n",
      "\tu = math.exp((rf - 0.5 * math.pow(v, 2)) * h + v * math.sqrt(h))\n",
      "\td = math.exp((rf - 0.5 * math.pow(v, 2)) * h - v * math.sqrt(h))\n",
      "\tdrift = math.exp(rf * h)\n",
      "\tq = (drift - d) / (u - d)\n",
      "\n",
      "\t#Process the terminal stock price\n",
      "\tstkval = np.zeros((n+1, n+1))\n",
      "\toptval = np.zeros((n+1, n+1))\n",
      "\tstkval[0, 0] = s\n",
      "    \n",
      "    ### Iterate through and process the terminal stock price ###\n",
      "    # iterate through each time interval i and modify price by factor u\n",
      "        # for each time interval i, create i+1 possible prices in column j (1 for each factor of d change)\n",
      "\t\n",
      "\t### Backwards recursion (or just a decrementing loop) for option price ###\n",
      "    # calculate option value for each j (max nodes) by max(cp * (S_t - k), 0)\n",
      "    # for each time interval moving backwards, calculate option value by:\n",
      "    # [q * option_value_if_it_goes_up + (1-q) * option_value_if_it_goes_down] / discount (AKA drift)\n",
      "    \n",
      "    # But wait! if it is an american option, the value at optval[i,j] is max(optval[i,j], cp * (S_t - k))\n",
      "\t\n",
      "    # After our backwards calculation we can simply return the root!\n",
      "\treturn optval[0, 0]\n",
      "\n",
      "\n",
      "\n",
      "print jarrow_rudd(100.0, 100.0, 1.0, 0.3, 0.03, 1, False, 100)"
     ],
     "language": "python",
     "metadata": {},
     "outputs": [
      {
       "output_type": "stream",
       "stream": "stdout",
       "text": [
        "13.2969231342\n"
       ]
      }
     ],
     "prompt_number": 3
    },
    {
     "cell_type": "markdown",
     "metadata": {},
     "source": [
      "That is great, hopefully your algorithm returned the same value on the example comment as our's did.  If not, be sure to ask us! "
     ]
    },
    {
     "cell_type": "code",
     "collapsed": false,
     "input": [
      "\"\"\"\n",
      "###pricing the same values but as a put option\n",
      "jarrow_rudd(100.0, 100.0, 1.0,0.3, 0.03, -1, False, 100)\n",
      "10.341476489\n",
      "\n",
      "###pricing as an American put option should result in a slightly higher value\n",
      "jarrow_rudd(100.0, 100.0, 1.0, 0.3, 0.03, -1, True, 100)\n",
      "10.6276823809\n",
      "\n",
      "\"\"\"\n",
      "\n"
     ],
     "language": "python",
     "metadata": {},
     "outputs": [],
     "prompt_number": 12
    },
    {
     "cell_type": "code",
     "collapsed": false,
     "input": [
      "print jarrow_rudd(100.0, 100.0, 1.0, 0.3, 0.03, -1, False, 100)\n",
      "\n",
      "print jarrow_rudd(100.0, 100.0, 1.0, 0.3, 0.03, -1, True, 100)"
     ],
     "language": "python",
     "metadata": {},
     "outputs": [
      {
       "output_type": "stream",
       "stream": "stdout",
       "text": [
        "10.341476489\n",
        "10.6276823809"
       ]
      },
      {
       "output_type": "stream",
       "stream": "stdout",
       "text": [
        "\n"
       ]
      }
     ],
     "prompt_number": 5
    },
    {
     "cell_type": "markdown",
     "metadata": {},
     "source": [
      "## Computer Science\n",
      "\n",
      "Once again, welcome to ARC. We hope that you continue with us and keep learning. \n",
      "\n",
      "ARC welcomes you now as a Computer Scientist"
     ]
    },
    {
     "cell_type": "code",
     "collapsed": false,
     "input": [],
     "language": "python",
     "metadata": {},
     "outputs": []
    }
   ],
   "metadata": {}
  }
 ]
}